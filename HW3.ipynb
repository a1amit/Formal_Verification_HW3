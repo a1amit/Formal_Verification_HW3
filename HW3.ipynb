{
 "cells": [
  {
   "cell_type": "markdown",
   "metadata": {
    "id": "Y7m1EiJdz3Wk"
   },
   "source": [
    "# 🧠 HW 3: Interleaving"
   ]
  },
  {
   "cell_type": "code",
   "execution_count": null,
   "metadata": {
    "ExecuteTime": {
     "end_time": "2025-04-06T12:00:12.200454Z",
     "start_time": "2025-04-06T12:00:11.725283Z"
    }
   },
   "outputs": [],
   "source": [
    "import sys\n",
    "import otter\n",
    "# try:\n",
    "#   import otter\n",
    "# except ImportError:\n",
    "#     %pip install otter-grader\n",
    "#     import otter\n",
    "\n",
    "grader = otter.Notebook(\"HW3.ipynb\")"
   ]
  },
  {
   "cell_type": "markdown",
   "metadata": {
    "deletable": false,
    "editable": false,
    "id": "TI1jvGE6vzP4"
   },
   "source": [
    "## Question 1: Interleaving Program Graphs"
   ]
  },
  {
   "cell_type": "markdown",
   "metadata": {
    "deletable": false,
    "editable": false
   },
   "source": [
    "### 🔍 Objective\n",
    "\n",
    "In this assignment, you will extend the `ProgramGraph` class to support **interleaving** two concurrent program graphs. Interleaving allows you to model concurrent execution, where each program graph represents an independent thread or component.\n",
    "\n",
    "---"
   ]
  },
  {
   "cell_type": "markdown",
   "metadata": {
    "deletable": false,
    "editable": false
   },
   "source": [
    "### 🔧 Conditions in ProgramGraph\n",
    "\n",
    "We have extended the `ProgramGraph` class constructor by adding a new parameter:\n",
    "\n",
    "```python\n",
    "Cond: Set[Condition]\n",
    "```\n",
    "\n",
    "This represents the set of all conditions that may appear in the graph’s transitions or guards.\n",
    "\n",
    "---\n"
   ]
  },
  {
   "cell_type": "markdown",
   "metadata": {
    "deletable": false,
    "editable": false
   },
   "source": [
    "### 🔧 Task: Implement `interleave(pg: ProgramGraph) -> ProgramGraph`\n",
    "\n",
    "Add a method `interleave(pg: ProgramGraph)` that returns a **new program graph** representing the interleaving of `self` with another program graph `pg`.\n",
    "\n",
    "---"
   ]
  },
  {
   "cell_type": "markdown",
   "metadata": {
    "deletable": false,
    "editable": false
   },
   "source": [
    "### 🤖 Interleaving Semantics\n",
    "\n",
    "- **Locations (`Loc`)**: Cartesian product of both graphs' locations\n",
    "  `(loc1, loc2)`\n",
    "\n",
    "- **Initial Locations (`Loc0`)**: Cartesian product of initial locations\n",
    "  `(loc1, loc2) ∈ pg1.Loc0 × pg2.Loc0`\n",
    "\n",
    "- **Actions (`Act`)**: Union of actions from both graphs\n",
    "\n",
    "- **Conditions (`Cond`)**: Union of conditions from both graphs\n",
    "\n",
    "- **Transitions**: For each transition in either graph:\n",
    "  - If `(l1, cond, act, l1') ∈ pg1`, then\n",
    "    `((l1, l2), cond, act, (l1', l2)) ∈ interleaved_pg`\n",
    "  - If `(l2, cond, act, l2') ∈ pg2`, then\n",
    "    `((l1, l2), cond, act, (l1, l2')) ∈ interleaved_pg`\n",
    "\n",
    "  ✅ This means only one component moves at a time (classic interleaving)\n",
    "\n",
    "- **Effect Function**: Use a shared environment and apply the effect of the corresponding program\n",
    "\n",
    "- **Eval Function**: Use the original `eval_fn` from either program graph\n",
    "\n",
    "---"
   ]
  },
  {
   "cell_type": "markdown",
   "metadata": {
    "deletable": false,
    "editable": false
   },
   "source": [
    "### ⚠️ Note on Interleaving Multiple Systems\n",
    "\n",
    "When interleaving more than two `TransitionSystem` or `ProgramGraph` instances, the resulting states or locations **must be represented as flat tuples**, not nested ones.\n",
    "\n",
    "✅ For example, interleaving 3 systems should produce states like:\n",
    "\n",
    "```python\n",
    "(\"s0\", \"t1\", \"u2\")\n",
    "```\n",
    "\n",
    "❌ And not nested tuples like:\n",
    "\n",
    "```python\n",
    "((\"s0\", \"t1\"), \"u2\")\n",
    "```\n",
    "\n",
    "This flattening ensures consistency in state representation, simplifies analysis and labeling, and avoids errors in reachability, labeling, or visualization.\n"
   ]
  },
  {
   "cell_type": "markdown",
   "metadata": {
    "deletable": false,
    "editable": false
   },
   "source": [
    "### 🧪 Example\n",
    "\n",
    "If `pg1` has:\n",
    "```python\n",
    "Loc = {'A', 'B'}\n",
    "Transitions = {('A', 'x > 0', 'x -= 1', 'B')}\n",
    "```\n",
    "\n",
    "And `pg2` has:\n",
    "```python\n",
    "Loc = {'L0', 'L1'}\n",
    "Transitions = {('L0', 'y == 0', 'y += 1', 'L1')}\n",
    "```\n",
    "\n",
    "Then the interleaved program graph has locations:\n",
    "```\n",
    "{('A', 'L0'), ('B', 'L0'), ('A', 'L1'), ('B', 'L1')}\n",
    "```\n",
    "\n",
    "And transitions like:\n",
    "```\n",
    "(('A', 'L0'), 'x > 0', 'x -= 1', ('B', 'L0'))\n",
    "(('B', 'L0'), 'y == 0', 'y += 1', ('B', 'L1'))\n",
    "(('A', 'L0'), 'y == 0', 'y += 1', ('A', 'L1'))\n",
    "(('A', 'L1'), 'x > 0', 'x -= 1', ('A', 'L1'))\n",
    "```\n",
    "\n",
    "---"
   ]
  },
  {
   "cell_type": "code",
   "execution_count": null,
   "metadata": {
    "ExecuteTime": {
     "end_time": "2025-04-06T12:00:12.497729Z",
     "start_time": "2025-04-06T12:00:12.254753Z"
    },
    "id": "Yr4ZoKdZtQzk",
    "tags": [
     "otter_answer_cell"
    ]
   },
   "outputs": [],
   "source": [
    "from typing import Callable, Set, Tuple, Dict, List, Union\n",
    "from collections import deque\n",
    "import copy\n",
    "\n",
    "# Add your imports here\n",
    "...\n",
    "\n",
    "Location = Union[str, Tuple]  # A state can be a string or a tuple (location, environment)\n",
    "Action = str  # Actions are represented as strings\n",
    "Condition = str # Conditions are represented as strings\n",
    "Transition = Tuple[Location, Condition, Action, Location]  # (source_state, action, target_state)\n",
    "Environment = Dict[str, Union[str, bool, int, float]]      # Variable assignments\n",
    "\n",
    "class ProgramGraph:\n",
    "    def __init__(\n",
    "        self,\n",
    "        locations: Set[Location],\n",
    "        initial_locations: Set[Location],\n",
    "        actions: Set[Action],\n",
    "        conditions: Set[Condition],\n",
    "        transitions: Set[Transition],\n",
    "        eval_fn: Callable[[Condition, Environment], bool],\n",
    "        effect_fn: Callable[[Action, Environment], Environment],\n",
    "        g0: Condition\n",
    "    ):\n",
    "        \"\"\"\n",
    "        A representation of a Program Graph.\n",
    "\n",
    "        :param locations: Set of all program locations (Loc).\n",
    "        :param initial_locations: Set of initial locations (Loc0).\n",
    "        :param actions: Set of possible actions (Act).\n",
    "        :param conditions: Set of possible conditions (Cond).\n",
    "        :param transitions: Set of transitions in the form (loc_from, condition, action, loc_to).\n",
    "        :param eval_fn: Function to evaluate a condition string in an environment.\n",
    "        :param effect_fn: Function to compute the new environment after applying an action.\n",
    "        :param g0: Initial condition string for filtering valid starting environments.\n",
    "        \"\"\"\n",
    "        self.Loc = set(locations)\n",
    "        self.Loc0 = set(initial_locations)\n",
    "        self.Act = set(actions)\n",
    "        self.Cond = set(conditions)\n",
    "        self.Transitions = set(transitions)\n",
    "        self.eval_fn = eval_fn\n",
    "        self.effect_fn = effect_fn\n",
    "        self.g0 = g0\n",
    "\n",
    "    def add_location(self, *locations: Location) -> \"ProgramGraph\":\n",
    "        \"\"\"Add one or more locations to the program graph.\"\"\"\n",
    "        self.Loc.update(locations)\n",
    "        return self\n",
    "\n",
    "    def add_action(self, *actions: Action) -> \"ProgramGraph\":\n",
    "        \"\"\"Add one or more actions to the program graph.\"\"\"\n",
    "        self.Act.update(actions)\n",
    "        return self\n",
    "\n",
    "    def add_condition(self, *conditions: Condition) -> \"ProgramGraph\":\n",
    "        \"\"\"Add one or more conditions to the program graph.\"\"\"\n",
    "        self.Cond.update(conditions)\n",
    "        return self\n",
    "\n",
    "    def add_transition(self, *transitions: Transition) -> \"ProgramGraph\":\n",
    "        \"\"\"\n",
    "        Add one or more transitions to the program graph.\n",
    "\n",
    "        Each transition must be a tuple: (loc_from, condition, action, loc_to).\n",
    "        \"\"\"\n",
    "        for transition in transitions:\n",
    "            if not isinstance(transition, tuple) or len(transition) != 4:\n",
    "                raise ValueError(f\"Invalid transition format: {transition}. Expected (loc_from, cond, action, loc_to).\")\n",
    "            loc_from, cond, action, loc_to = transition\n",
    "            if loc_from not in self.Loc:\n",
    "                raise ValueError(f\"Location {loc_from} is not in the program graph.\")\n",
    "            if loc_to not in self.Loc:\n",
    "                raise ValueError(f\"Location {loc_to} is not in the program graph.\")\n",
    "            if action not in self.Act:\n",
    "                raise ValueError(f\"Action {action} is not in the program graph.\")\n",
    "            if cond not in self.Cond:\n",
    "                raise ValueError(f\"Condition {cond} is not in the program graph.\")\n",
    "            self.Transitions.add(transition)\n",
    "        return self\n",
    "\n",
    "    def add_initial_location(self, *locations: Location) -> \"ProgramGraph\":\n",
    "        \"\"\"Add one or more initial locations to the program graph.\"\"\"\n",
    "        for loc in locations:\n",
    "            if loc not in self.Loc:\n",
    "                raise ValueError(f\"Cannot set initial location {loc}. Location is not in the set of locations.\")\n",
    "            self.Loc0.add(loc)\n",
    "        return self\n",
    "\n",
    "    def set_eval_fn(self, eval_fn: Callable[[Condition, Environment], bool]) -> \"ProgramGraph\":\n",
    "        \"\"\"Set the function used to evaluate conditions.\"\"\"\n",
    "        self.eval_fn = eval_fn\n",
    "        return self\n",
    "\n",
    "    def set_effect_fn(self, effect_fn: Callable[[Action, Environment], Environment]) -> \"ProgramGraph\":\n",
    "        \"\"\"Set the function used to apply actions to environments.\"\"\"\n",
    "        self.effect_fn = effect_fn\n",
    "        return self\n",
    "\n",
    "    def eval(self, condition: Condition, env: Environment) -> bool:\n",
    "        \"\"\"Evaluate a condition string in the given environment.\"\"\"\n",
    "        return self.eval_fn(condition, env)\n",
    "\n",
    "    def effect(self, action: Action, env: Environment) -> Environment:\n",
    "        \"\"\"Apply an action to the environment and return the new environment.\"\"\"\n",
    "        return self.effect_fn(action, env)\n",
    "\n",
    "    def valid_transitions(self, loc: Location, env: Environment, action: Action) -> List[Tuple[Location, Action, Location]]:\n",
    "        \"\"\"\n",
    "        Return a list of valid transitions from a given location using the provided environment and action.\n",
    "        \"\"\"\n",
    "        # Paste your solution from previous exercise here\n",
    "        ...\n",
    "\n",
    "    def to_transition_system(self, vars: Dict[str, Set[Union[str, bool, int, float]]], labels: Set[Condition]) -> TransitionSystem:\n",
    "        \"\"\"\n",
    "        Construct and return a Transition System from the program graph.\n",
    "\n",
    "        :param vars: A dictionary mapping variable names to their finite sets of possible values.\n",
    "        :param labels: A set of atomic proposition strings to be used for labeling states.\n",
    "        :return: A TransitionSystem instance corresponding to the program graph.\n",
    "        \"\"\"\n",
    "        # Paste your solution from previous exercise here\n",
    "        ...\n",
    "\n",
    "    def interleave(self, pg: \"ProgramGraph\") -> \"ProgramGraph\":\n",
    "        ...\n",
    "\n",
    "    def __repr__(self):\n",
    "                return (\n",
    "            f\"ProgramGraph(\\n\"\n",
    "            f\"  Loc: {self.Loc}\\n\"\n",
    "            f\"  Act: {self.Act}\\n\"\n",
    "            f\"  Cond: {self.Cond}\\n\"\n",
    "            f\"  Transitions: {self.Transitions}\\n\"\n",
    "            f\"  Loc0: {self.Loc0}\\n\"\n",
    "            f\"  g0: {self.g0}\\n\"\n",
    "            f\")\"\n",
    "        )\n",
    "\n",
    "\n",
    "    def plot(self):\n",
    "        \"\"\"\n",
    "        Visualize the program graph as a directed graph using networkx and matplotlib.\n",
    "\n",
    "        Nodes are locations. Edges are labeled with (condition, action).\n",
    "        \"\"\"\n",
    "        G = nx.MultiDiGraph()\n",
    "\n",
    "        # Add nodes\n",
    "        for loc in self.Loc:\n",
    "            G.add_node(loc, color='lightblue' if loc in self.Loc0 else 'white')\n",
    "\n",
    "        # Add edges with (condition, action) labels\n",
    "        for (loc_from, cond, action, loc_to) in self.Transitions:\n",
    "            label = f\"{cond} / {action}\"\n",
    "            G.add_edge(loc_from, loc_to, label=label)\n",
    "\n",
    "        pos = nx.spring_layout(G, seed=42)  # consistent layout\n",
    "\n",
    "        # Draw nodes with color\n",
    "        node_colors = [G.nodes[n].get('color', 'white') for n in G.nodes]\n",
    "        nx.draw_networkx_nodes(G, pos, node_color=node_colors, edgecolors='black')\n",
    "        nx.draw_networkx_labels(G, pos)\n",
    "\n",
    "        # Draw edges\n",
    "        nx.draw_networkx_edges(G, pos, arrows=True)\n",
    "\n",
    "        # Draw edge labels\n",
    "        edge_labels = {(u, v): d['label'] for u, v, d in G.edges(data=True)}\n",
    "        nx.draw_networkx_edge_labels(G, pos, edge_labels=edge_labels, font_size=8)\n",
    "\n",
    "        # Display\n",
    "        plt.title(\"Program Graph\")\n",
    "        plt.axis('off')\n",
    "        plt.tight_layout()\n",
    "        plt.show()"
   ]
  },
  {
   "cell_type": "code",
   "execution_count": null,
   "metadata": {
    "deletable": false,
    "editable": false
   },
   "outputs": [],
   "source": [
    "grader.check(\"q1\")"
   ]
  },
  {
   "cell_type": "markdown",
   "metadata": {
    "deletable": false,
    "editable": false
   },
   "source": [
    "## 🔄 Question 2: Interleaving Transition Systems with Handshaking"
   ]
  },
  {
   "cell_type": "markdown",
   "metadata": {
    "deletable": false,
    "editable": false
   },
   "source": [
    "### 🔍 Objective\n",
    "\n",
    "You will now extend the `TransitionSystem` class to support **interleaving** two transition systems, optionally synchronizing on a set of **handshaking actions**.\n",
    "\n",
    "This is useful for modeling **parallel systems** that may:\n",
    "- Evolve independently (interleaving)\n",
    "- Or synchronize on specific shared actions (handshake)\n",
    "\n",
    "---"
   ]
  },
  {
   "cell_type": "markdown",
   "metadata": {
    "deletable": false,
    "editable": false,
    "vscode": {
     "languageId": "markdown"
    }
   },
   "source": [
    "### 🧩 Task\n",
    "\n",
    "Add a method to the `TransitionSystem` class:\n",
    "\n",
    "```python\n",
    "def interleave(self, ts: TransitionSystem, h: Set[Action]) -> TransitionSystem:\n",
    "    ...\n",
    "```\n",
    "\n",
    "Where:\n",
    "- `self` is the first transition system (`TS1`)\n",
    "- `ts` is the second transition system (`TS2`)\n",
    "- `h` is a set of **handshaking actions** ⊆ `Act1 ∩ Act2`\n",
    "\n",
    "---"
   ]
  },
  {
   "cell_type": "markdown",
   "metadata": {
    "deletable": false,
    "editable": false
   },
   "source": [
    "### 🤖 Interleaving Semantics\n",
    "\n",
    "Let `s1`, `s1'` be states in `TS1`, and `s2`, `s2'` be states in `TS2`.\n",
    "\n",
    "You should add the following transitions to the interleaved system:\n",
    "\n",
    "#### 🔹 Independent Transitions\n",
    "\n",
    "If `a ∈ Act1 \\ h`:\n",
    "```\n",
    "((s1, s2), a, (s1', s2)) if (s1, a, s1') ∈ TS1\n",
    "```\n",
    "\n",
    "If `a ∈ Act2 \\ h`:\n",
    "```\n",
    "((s1, s2), a, (s1, s2')) if (s2, a, s2') ∈ TS2\n",
    "```\n",
    "\n",
    "#### 🔸 Handshaking Transitions\n",
    "\n",
    "If `a ∈ h`:\n",
    "```\n",
    "((s1, s2), a, (s1', s2')) if (s1, a, s1') ∈ TS1 and (s2, a, s2') ∈ TS2\n",
    "```\n",
    "\n",
    "---"
   ]
  },
  {
   "cell_type": "markdown",
   "metadata": {
    "deletable": false,
    "editable": false
   },
   "source": [
    "### 🧱 Transition System Components\n",
    "\n",
    "Your interleaved TS should include:\n",
    "\n",
    "- `S = S1 × S2`\n",
    "- `Act = Act1 ∪ Act2`\n",
    "- `Transitions =` as defined above\n",
    "- `I = I1 × I2`\n",
    "- `AP = AP1 ∪ AP2`\n",
    "- `L((s1, s2)) = L1(s1) ∪ L2(s2)`\n",
    "\n",
    "---"
   ]
  },
  {
   "cell_type": "markdown",
   "metadata": {
    "deletable": false,
    "editable": false
   },
   "source": [
    "### 🧪 Example\n",
    "\n",
    "Suppose:\n",
    "\n",
    "TS1:\n",
    "```\n",
    "S = {s0, s1}, Act = {a}, Transitions = {(s0, a, s1)}\n",
    "```\n",
    "\n",
    "TS2:\n",
    "```\n",
    "S = {t0, t1}, Act = {a}, Transitions = {(t0, a, t1)}\n",
    "```\n",
    "\n",
    "With `h = {'a'}`, the interleaved TS will have:\n",
    "```\n",
    "((s0, t0), a, (s1, t1))\n",
    "```\n",
    "\n",
    "If `h = ∅`, you'll get:\n",
    "```\n",
    "((s0, t0), a, (s1, t0))\n",
    "((s0, t0), a, (s0, t1))\n",
    "((s1, t0), a, (s1, t1))\n",
    "((s0, t1), a, (s1, t1))\n",
    "```\n",
    "\n",
    "---"
   ]
  },
  {
   "cell_type": "code",
   "execution_count": null,
   "metadata": {
    "ExecuteTime": {
     "end_time": "2025-04-06T12:00:12.532055Z",
     "start_time": "2025-04-06T12:00:12.515568Z"
    },
    "tags": [
     "otter_answer_cell"
    ]
   },
   "outputs": [],
   "source": [
    "import itertools as it\n",
    "from typing import Set, Dict, Tuple, Union, Optional\n",
    "\n",
    "import networkx as nx\n",
    "import matplotlib.pyplot as plt\n",
    "\n",
    "from staff_solution.utils import flatten\n",
    "\n",
    "State = Union[str, Tuple]  # A state can be a string or a tuple (location, environment)\n",
    "Action = str  # Actions are represented as strings\n",
    "Transition = Tuple[State, Action, State]  # (source_state, action, target_state)\n",
    "LabelingMap = Dict[State, Set[str]]  # Maps states to atomic propositions\n",
    "\n",
    "\n",
    "class TransitionSystem:\n",
    "    \"\"\"\n",
    "    A Transition System (TS) representation.\n",
    "\n",
    "    Attributes:\n",
    "        S (Set[State]): The set of all states (strings or tuples).\n",
    "        Act (Set[Action]): The set of all possible actions.\n",
    "        Transitions (Set[Transition]): The set of transitions, each represented as (state_origin, action, state_target).\n",
    "        I (Set[State]): The set of initial states.\n",
    "        AP (Set[str]): The set of atomic propositions.\n",
    "        _L (LabelingMap): A dictionary mapping states to their respective atomic propositions.\n",
    "    \"\"\"\n",
    "\n",
    "    def __init__(\n",
    "        self,\n",
    "        states: Optional[Set[State]] = None,\n",
    "        actions: Optional[Set[Action]] = None,\n",
    "        transitions: Optional[Set[Transition]] = None,\n",
    "        initial_states: Optional[Set[State]] = None,\n",
    "        atomic_props: Optional[Set[str]] = None,\n",
    "        labeling_map: Optional[LabelingMap] = None,\n",
    "    ) -> None:\n",
    "        \"\"\"\n",
    "        Initializes the Transition System.\n",
    "\n",
    "        :param states: A set of states (each a string or a tuple). Defaults to an empty set.\n",
    "        :param actions: A set of actions. Defaults to an empty set.\n",
    "        :param transitions: A set of transitions, each as (state_origin, action, state_target). Defaults to an empty set.\n",
    "        :param initial_states: A set of initial states. Defaults to an empty set.\n",
    "        :param atomic_props: A set of atomic propositions. Defaults to an empty set.\n",
    "        :param labeling_map: A dictionary mapping states to sets of atomic propositions. Defaults to an empty dictionary.\n",
    "        \"\"\"\n",
    "        self.S: Set[State] = set(states) if states is not None else set()\n",
    "        self.Act: Set[Action] = set(actions) if actions is not None else set()\n",
    "        self.Transitions: Set[Transition] = set(transitions) if transitions is not None else set()\n",
    "        self.I: Set[State] = set(initial_states) if initial_states is not None else set()\n",
    "        self.AP: Set[str] = set(atomic_props) if atomic_props is not None else set()\n",
    "        self._L: LabelingMap = dict(labeling_map) if labeling_map is not None else {}\n",
    "\n",
    "    def add_state(self, *states: State) -> \"TransitionSystem\":\n",
    "        \"\"\"\n",
    "        Adds one or more states to the transition system.\n",
    "\n",
    "        :param states: One or more states (strings or tuples) to be added.\n",
    "        :return: The TransitionSystem instance (for method chaining).\n",
    "        \"\"\"\n",
    "        self.S.update(states)\n",
    "        return self\n",
    "\n",
    "    def add_action(self, *actions: Action) -> \"TransitionSystem\":\n",
    "        \"\"\"\n",
    "        Adds one or more actions to the transition system.\n",
    "\n",
    "        :param actions: One or more actions (strings) to be added.\n",
    "        :return: The TransitionSystem instance (for method chaining).\n",
    "        \"\"\"\n",
    "        self.Act.update(actions)\n",
    "        return self\n",
    "\n",
    "    def add_transition(self, *transitions: Transition) -> \"TransitionSystem\":\n",
    "        \"\"\"\n",
    "        Adds one or more transitions to the transition system.\n",
    "        Ensures that all involved states and actions exist before adding the transitions.\n",
    "\n",
    "        Each transition must be provided as a tuple of the form `(state_from, action, state_to)`, where:\n",
    "        - `state_from` is the source state.\n",
    "        - `action` is the action performed.\n",
    "        - `state_to` is the resulting state.\n",
    "\n",
    "        :param transitions: One or more transitions, each as a tuple `(state_from, action, state_to)`.\n",
    "        :raises ValueError:\n",
    "            - If a transition is not a tuple of length 3.\n",
    "            - If `state_from` or `state_to` does not exist in `self.S`.\n",
    "            - If `action` is not in `self.Act`.\n",
    "        :return: The `TransitionSystem` instance (for method chaining).\n",
    "        \"\"\"\n",
    "        for transition in transitions:\n",
    "            if not isinstance(transition, tuple) or len(transition) != 3:\n",
    "                raise ValueError(f\"Invalid transition format: {transition}. Expected (state_from, action, state_to).\")\n",
    "\n",
    "            state_from, action, state_to = transition\n",
    "\n",
    "            if state_from not in self.S:\n",
    "                raise ValueError(f\"State {state_from} is not in the transition system.\")\n",
    "            if state_to not in self.S:\n",
    "                raise ValueError(f\"State {state_to} is not in the transition system.\")\n",
    "            if action not in self.Act:\n",
    "                raise ValueError(f\"Action {action} is not in the transition system.\")\n",
    "\n",
    "            self.Transitions.add(transition)\n",
    "        return self\n",
    "\n",
    "    def add_initial_state(self, *states: State) -> \"TransitionSystem\":\n",
    "        \"\"\"\n",
    "        Adds one or more states to the set of initial states.\n",
    "\n",
    "        :param states: One or more states to be marked as initial.\n",
    "        :raises ValueError: If any state does not exist in the system.\n",
    "        :return: The TransitionSystem instance (for method chaining).\n",
    "        \"\"\"\n",
    "        for state in states:\n",
    "            if state not in self.S:\n",
    "                raise ValueError(f\"Initial state {state} must be in the transition system.\")\n",
    "            self.I.add(state)\n",
    "        return self\n",
    "\n",
    "    def add_atomic_proposition(self, *props: str) -> \"TransitionSystem\":\n",
    "        \"\"\"\n",
    "        Adds one or more atomic propositions to the transition system.\n",
    "\n",
    "        :param props: One or more atomic propositions (strings) to be added.\n",
    "        :return: The TransitionSystem instance (for method chaining).\n",
    "        \"\"\"\n",
    "        self.AP.update(props)\n",
    "        return self\n",
    "\n",
    "    def add_label(self, state: State, *labels: str) -> \"TransitionSystem\":\n",
    "        \"\"\"\n",
    "        Adds one or more atomic propositions to a given state.\n",
    "\n",
    "        :param state: The state to label.\n",
    "        :param labels: One or more atomic propositions to be assigned to the state.\n",
    "        :raises ValueError: If the state is not in the system or if any label is not a valid atomic proposition.\n",
    "        :return: The TransitionSystem instance (for method chaining).\n",
    "        \"\"\"\n",
    "        if state not in self.S:\n",
    "            raise ValueError(f\"Cannot set labels for {state}. State is not in the transition system.\")\n",
    "\n",
    "        invalid_labels = {label for label in labels if label not in self.AP}\n",
    "        if invalid_labels:\n",
    "            raise ValueError(f\"Cannot assign labels {invalid_labels}. They are not in the set of atomic propositions (AP).\")\n",
    "\n",
    "        self._L.setdefault(state, set()).update(labels)\n",
    "        return self\n",
    "\n",
    "    def L(self, state: State) -> Set[str]:\n",
    "        \"\"\"\n",
    "        Retrieves the set of atomic propositions that hold in a given state.\n",
    "\n",
    "        :param state: The state whose atomic propositions are being retrieved.\n",
    "        :raises ValueError: If the state is not in the transition system.\n",
    "        :return: A set of atomic propositions associated with the given state.\n",
    "        \"\"\"\n",
    "        if state not in self.S:\n",
    "            raise ValueError(f\"State {state} is not in the transition system.\")\n",
    "        return self._L.get(state, set())\n",
    "\n",
    "    def pre(self, S: Union[State, Set[State]], action: Optional[Action] = None) -> Set[State]:\n",
    "        \"\"\"\n",
    "        Computes the set of predecessor states from which a given state or set of states can be reached.\n",
    "\n",
    "        :param S: A single state (string/tuple) or a collection of states.\n",
    "        :param action: (Optional) If provided, filters only the transitions that use this action.\n",
    "        :return: A set of predecessor states.\n",
    "        \"\"\"\n",
    "        # Paste your solution from the previous exercise here\n",
    "        ...\n",
    "\n",
    "    def post(self, S: Union[State, Set[State]], action: Optional[Action] = None) -> Set[State]:\n",
    "        \"\"\"\n",
    "        Computes the set of successor states reachable from a given state or a collection of states.\n",
    "\n",
    "        :param S: A single state or a collection of states.\n",
    "        :param action: (Optional) Filters transitions by this action.\n",
    "        :return: A set of successor states.\n",
    "        \"\"\"\n",
    "        # Paste your solution from the previous exercise here\n",
    "        ...\n",
    "\n",
    "    def reach(self) -> Set[State]:\n",
    "        \"\"\"\n",
    "        Computes the set of all reachable states from the initial states.\n",
    "\n",
    "        :return: A set of reachable states.\n",
    "        \"\"\"\n",
    "        # Paste your solution from the previous exercise here\n",
    "        ...\n",
    "\n",
    "    def is_action_deterministic(self) -> bool:\n",
    "        \"\"\"\n",
    "        Checks whether the transition system is action-deterministic.\n",
    "\n",
    "        A transition system is action-deterministic if:\n",
    "        - It has at most one initial state.\n",
    "        - For each state and action, there is at most one successor state.\n",
    "\n",
    "        :return: True if the transition system is action-deterministic, False otherwise.\n",
    "        \"\"\"\n",
    "        # Paste your solution from the previous exercise here\n",
    "        ...\n",
    "\n",
    "    def is_label_deterministic(self) -> bool:\n",
    "        \"\"\"\n",
    "        Checks whether the transition system is label-deterministic.\n",
    "\n",
    "        A transition system is label-deterministic if:\n",
    "        - It has at most one initial state.\n",
    "        - For each state, the number of reachable successor states is equal to the number of unique label sets\n",
    "          of these successor states.\n",
    "\n",
    "        :return: True if the transition system is label-deterministic, False otherwise.\n",
    "        \"\"\"\n",
    "        # Paste your solution from the previous exercise here\n",
    "        ...\n",
    "\n",
    "    def interleave(self, ts, h=frozenset()):\n",
    "        ...\n",
    "\n",
    "    def __repr__(self) -> str:\n",
    "        \"\"\"\n",
    "        Returns a string representation of the Transition System.\n",
    "\n",
    "        :return: A formatted string representation of the TS.\n",
    "        \"\"\"\n",
    "        return (\n",
    "            f\"TransitionSystem(\\n\"\n",
    "            f\"  States: {self.S}\\n\"\n",
    "            f\"  Actions: {self.Act}\\n\"\n",
    "            f\"  Transitions: {self.Transitions}\\n\"\n",
    "            f\"  Initial States: {self.I}\\n\"\n",
    "            f\"  Atomic Propositions: {self.AP}\\n\"\n",
    "            f\"  Labels: {self._L}\\n\"\n",
    "            f\")\"\n",
    "        )\n",
    "\n",
    "\n",
    "    def plot(self, title: str = \"Transition System\", figsize: Tuple[int, int] = (10, 6)) -> None:\n",
    "        \"\"\"\n",
    "        Plots the Transition System as a directed graph.\n",
    "\n",
    "        :param title: Title of the plot.\n",
    "        :param figsize: Figure size for the plot.\n",
    "        \"\"\"\n",
    "        G = nx.DiGraph()\n",
    "\n",
    "        # Add nodes (states)\n",
    "        for state in self.S:\n",
    "            label = f\"{state}\\n{' '.join(self.L(state))}\" if self.L(state) else str(state)\n",
    "            print(label)\n",
    "            G.add_node(state, label=label, color=\"blue\" if state in self.I else \"yellow\")\n",
    "\n",
    "        # Add edges (transitions)\n",
    "        for state_from, action, state_to in self.Transitions:\n",
    "            G.add_edge(state_from, state_to, label=action)\n",
    "\n",
    "        plt.figure(figsize=figsize)\n",
    "        pos = nx.spring_layout(G)  # Positioning algorithm for layout\n",
    "\n",
    "        # Draw nodes\n",
    "        node_colors = [G.nodes[n][\"color\"] for n in G.nodes]\n",
    "        nx.draw(G, pos, with_labels=True, labels=nx.get_node_attributes(G, \"label\"), node_color=node_colors, edgecolors=\"black\", node_size=2000, font_size=10)\n",
    "\n",
    "        # Draw edge labels (actions)\n",
    "        edge_labels = {(u, v): d[\"label\"] for u, v, d in G.edges(data=True)}\n",
    "        nx.draw_networkx_edge_labels(G, pos, edge_labels=edge_labels, font_size=9)\n",
    "\n",
    "        plt.title(title)\n",
    "        plt.show()\n"
   ]
  },
  {
   "cell_type": "code",
   "execution_count": null,
   "metadata": {
    "deletable": false,
    "editable": false
   },
   "outputs": [],
   "source": [
    "grader.check(\"q2\")"
   ]
  },
  {
   "cell_type": "markdown",
   "metadata": {
    "deletable": false,
    "editable": false
   },
   "source": [
    "## ♟️ Question 3: Solving N-Queens with Transition Systems\n"
   ]
  },
  {
   "cell_type": "markdown",
   "metadata": {
    "deletable": false,
    "editable": false
   },
   "source": [
    "### 🧩 Task 1: Build the System\n",
    "\n",
    "Your goal in this task is to model the **N-Queens problem** using `TransitionSystem` objects and interleaving.\n",
    "\n",
    "Each queen must be placed in a unique row and must not threaten any other queen. You will model each queen as a separate transition system component and interleave them to explore all possible board configurations.\n",
    "\n",
    "---"
   ]
  },
  {
   "cell_type": "markdown",
   "metadata": {
    "deletable": false,
    "editable": false
   },
   "source": [
    "#### 🔧 Function 1: `queen_ts(row: int, n: int) -> TransitionSystem`\n",
    "\n",
    "This function builds a transition system representing a **single queen in row `row`**. The queen can choose to be placed in any of the `n` columns.\n",
    "\n",
    "- **States**: `\"start\"`, and one state per column: `\"q{row}{c}\"`\n",
    "- **Actions**: One per column: `\"row->column\"` (e.g., `\"2->3\"`)\n",
    "- **Transitions**: From `\"start\"` to `\"q{row}{c}\"` via `\"row->c\"`\n",
    "- **Atomic Propositions**: `\"q{row}{c}\"` for each column\n",
    "- **Labeling**: `\"q{row}{c}\"` holds in state `\"q{row}{c}\"`\n",
    "\n",
    "---"
   ]
  },
  {
   "cell_type": "markdown",
   "metadata": {
    "deletable": false,
    "editable": false
   },
   "source": [
    "#### 🔧 Function 2: `interleave_n_queens(n: int) -> TransitionSystem`\n",
    "\n",
    "This function should:\n",
    "\n",
    "- Construct `n` independent TSs (one per queen/row) using `queen_ts(...)`\n",
    "- Interleave them into a single transition system using `.interleave(...)`\n",
    "- No handshaking is required\n",
    "\n",
    "The resulting transition system will explore all ways to place `n` queens on an `n×n` board, one per row.\n",
    "\n",
    "---"
   ]
  },
  {
   "cell_type": "markdown",
   "metadata": {
    "deletable": false,
    "editable": false
   },
   "source": [
    "#### 🔧 Function 3: `extract_valid_n_queen_states(ts: TransitionSystem) -> List[Tuple[str]]`\n",
    "\n",
    "After building the interleaved TS:\n",
    "\n",
    "- Use `.reach()` to find all reachable states\n",
    "- Filter only those states where all queens are placed (i.e., no `\"start\"` state appears)\n",
    "- For each state, extract column indices and check for diagonal or column conflicts using `is_safe(...)`\n",
    "\n",
    "Return all valid board configurations.\n",
    "\n",
    "---"
   ]
  },
  {
   "cell_type": "markdown",
   "metadata": {
    "deletable": false,
    "editable": false
   },
   "source": [
    "#### 🧠 Helper: `is_safe(positions: List[int]) -> bool`\n",
    "\n",
    "This utility function receives a list of queen column positions and checks:\n",
    "\n",
    "- No queens are in the same column\n",
    "- No queens are on the same diagonal\n",
    "\n",
    "Use this to validate candidate states.\n",
    "\n",
    "---\n"
   ]
  },
  {
   "cell_type": "markdown",
   "metadata": {
    "deletable": false,
    "editable": false
   },
   "source": [
    "### 💡 Example\n",
    "\n",
    "For `n = 4`, your solution should yield exactly 2 valid solutions:\n",
    "\n",
    "```python\n",
    "[\n",
    "    ('q01', 'q13', 'q20', 'q32'),\n",
    "    ('q02', 'q10', 'q23', 'q31')\n",
    "]\n",
    "```"
   ]
  },
  {
   "cell_type": "code",
   "execution_count": null,
   "metadata": {
    "ExecuteTime": {
     "end_time": "2025-04-06T12:00:12.595559Z",
     "start_time": "2025-04-06T12:00:12.590494Z"
    },
    "tags": [
     "otter_answer_cell"
    ]
   },
   "outputs": [],
   "source": [
    "def queen_ts(row: int, n: int) -> TransitionSystem:\n",
    "    \"\"\"\n",
    "    Build a TS for a queen in row `row`, choosing a column from 0 to n-1.\n",
    "    \"\"\"\n",
    "    ...\n",
    "\n",
    "\n",
    "def interleave_n_queens(n: int) -> TransitionSystem:\n",
    "    \"\"\"\n",
    "    Interleave N TSs for N queens placed on an NxN board.\n",
    "    Each TS represents a queen choosing one column.\n",
    "    \"\"\"\n",
    "    ...\n",
    "\n",
    "\n",
    "def is_safe(positions: List[int]) -> bool:\n",
    "    \"\"\"\n",
    "    Check if a list of queen column positions is a valid N-Queens solution.\n",
    "    \"\"\"\n",
    "    ...\n",
    "\n",
    "\n",
    "def extract_valid_n_queen_states(ts: TransitionSystem) -> List[Tuple[str]]:\n",
    "    \"\"\"\n",
    "    Given the interleaved TS, return all reachable states that represent valid N-Queens solutions.\n",
    "    \"\"\"\n",
    "    ..."
   ]
  },
  {
   "cell_type": "code",
   "execution_count": null,
   "metadata": {
    "deletable": false,
    "editable": false
   },
   "outputs": [],
   "source": [
    "grader.check(\"q3\")"
   ]
  },
  {
   "cell_type": "markdown",
   "metadata": {
    "deletable": false,
    "editable": false
   },
   "source": [
    "## Submission\n",
    "\n",
    "Make sure you have run all cells in your notebook in order before running the cell below, so that all images/graphs appear in the output. The cell below will generate a zip file for you to submit. **Please save before exporting!**"
   ]
  },
  {
   "cell_type": "code",
   "execution_count": null,
   "metadata": {
    "deletable": false,
    "editable": false
   },
   "outputs": [],
   "source": [
    "# Save your notebook first, then run this cell to export your submission.\n",
    "grader.export(pdf=False)"
   ]
  },
  {
   "cell_type": "markdown",
   "metadata": {},
   "source": [
    " "
   ]
  }
 ],
 "metadata": {
  "kernelspec": {
   "display_name": "Python 3",
   "language": "python",
   "name": "python3"
  },
  "language_info": {
   "codemirror_mode": {
    "name": "ipython",
    "version": 3
   },
   "file_extension": ".py",
   "mimetype": "text/x-python",
   "name": "python",
   "nbconvert_exporter": "python",
   "pygments_lexer": "ipython3",
   "version": "3.12.4"
  },
  "otter": {
   "OK_FORMAT": true,
   "assignment_name": "hw03,",
   "tests": {
    "q1": {
     "name": "q1",
     "points": null,
     "suites": [
      {
       "cases": [
        {
         "code": ">>> def eval_fn(cond, env):\n...     try:\n...         return eval(cond, {}, env)\n...     except:\n...         return False\n>>> def effect_fn(act, env):\n...     new_env = env.copy()\n...     try:\n...         exec(act, {}, new_env)\n...     except:\n...         pass\n...     return new_env\n>>> def create_pg1():\n...     return ProgramGraph(locations={'A', 'B'}, initial_locations={'A'}, actions={'x -= 1'}, conditions={'x > 0'}, transitions={('A', 'x > 0', 'x -= 1', 'B')}, eval_fn=eval_fn, effect_fn=effect_fn, g0='x > 0')\n>>> def create_pg2():\n...     return ProgramGraph(locations={'L0', 'L1'}, initial_locations={'L0'}, actions={'y += 1'}, conditions={'y == 0'}, transitions={('L0', 'y == 0', 'y += 1', 'L1')}, eval_fn=eval_fn, effect_fn=effect_fn, g0='y == 0')\n>>> def test_interleave_locations_and_init():\n...     pg1 = create_pg1()\n...     pg2 = create_pg2()\n...     interleaved = pg1.interleave(pg2)\n...     expected_locs = {('A', 'L0'), ('A', 'L1'), ('B', 'L0'), ('B', 'L1')}\n...     expected_init = {('A', 'L0')}\n...     assert interleaved.Loc == expected_locs, 'Incorrect set of interleaved locations'\n...     assert interleaved.Loc0 == expected_init, 'Incorrect initial locations'\n>>> def test_interleave_transitions():\n...     pg1 = create_pg1()\n...     pg2 = create_pg2()\n...     interleaved = pg1.interleave(pg2)\n...     expected = {(('A', 'L0'), 'x > 0', 'x -= 1', ('B', 'L0')), (('A', 'L0'), 'y == 0', 'y += 1', ('A', 'L1'))}\n...     for t in expected:\n...         assert t in interleaved.Transitions, f'Missing expected transition: {t}'\n>>> def test_interleave_actions_and_conditions():\n...     pg1 = create_pg1()\n...     pg2 = create_pg2()\n...     interleaved = pg1.interleave(pg2)\n...     assert interleaved.Act == {'x -= 1', 'y += 1'}, 'Actions not correctly merged'\n...     assert interleaved.Cond == {'x > 0', 'y == 0'}, 'Conditions not correctly merged'\n>>> test_interleave_locations_and_init()\n>>> test_interleave_transitions()\n>>> test_interleave_actions_and_conditions()\n",
         "hidden": false,
         "locked": false
        }
       ],
       "scored": true,
       "setup": "",
       "teardown": "",
       "type": "doctest"
      }
     ]
    },
    "q2": {
     "name": "q2",
     "points": null,
     "suites": [
      {
       "cases": [
        {
         "code": ">>> def make_ts1():\n...     S = {'s0', 's1'}\n...     Act = {'a', 'b'}\n...     Transitions = {('s0', 'a', 's1')}\n...     I = {'s0'}\n...     AP = {'P'}\n...     L = {'s0': {'P'}, 's1': set()}\n...     return TransitionSystem(S, Act, Transitions, I, AP, L)\n>>> def make_ts2():\n...     S = {'t0', 't1'}\n...     Act = {'a', 'c'}\n...     Transitions = {('t0', 'a', 't1')}\n...     I = {'t0'}\n...     AP = {'Q'}\n...     L = {'t0': {'Q'}, 't1': set()}\n...     return TransitionSystem(S, Act, Transitions, I, AP, L)\n>>> def test_interleave_states_and_actions():\n...     ts1 = make_ts1()\n...     ts2 = make_ts2()\n...     ts = ts1.interleave(ts2, h=set())\n...     expected_states = {(s1, s2) for s1 in ts1.S for s2 in ts2.S}\n...     expected_actions = ts1.Act | ts2.Act\n...     assert ts.S == expected_states, 'Incorrect state space in interleaved TS'\n...     assert ts.Act == expected_actions, 'Incorrect action set in interleaved TS'\n>>> def test_interleave_initial_states():\n...     ts1 = make_ts1()\n...     ts2 = make_ts2()\n...     ts = ts1.interleave(ts2, h=set())\n...     assert ts.I == {('s0', 't0')}, 'Incorrect initial states in interleaved TS'\n>>> def test_independent_transitions():\n...     ts1 = make_ts1()\n...     ts2 = make_ts2()\n...     ts = ts1.interleave(ts2, h=set())\n...     assert (('s0', 't0'), 'a', ('s1', 't0')) in ts.Transitions, 'Expected independent action from TS1'\n...     assert (('s0', 't0'), 'a', ('s0', 't1')) in ts.Transitions, 'Expected independent action from TS2'\n>>> def test_handshaking_transition():\n...     ts1 = make_ts1()\n...     ts2 = make_ts2()\n...     ts = ts1.interleave(ts2, h={'a'})\n...     assert (('s0', 't0'), 'a', ('s1', 't1')) in ts.Transitions, 'Expected handshaking transition'\n...     assert (('s0', 't0'), 'a', ('s1', 't0')) not in ts.Transitions, 'Should not allow independent TS1 move on handshake'\n...     assert (('s0', 't0'), 'a', ('s0', 't1')) not in ts.Transitions, 'Should not allow independent TS2 move on handshake'\n>>> def test_labeling_function_union():\n...     ts1 = make_ts1()\n...     ts2 = make_ts2()\n...     ts = ts1.interleave(ts2, h=set())\n...     labels = ts.L(('s0', 't0'))\n...     assert 'P' in labels and 'Q' in labels, 'Labeling function must union APs of both systems'\n>>> test_interleave_states_and_actions()\n>>> test_interleave_initial_states()\n>>> test_independent_transitions()\n>>> test_handshaking_transition()\n>>> test_labeling_function_union()\n",
         "hidden": false,
         "locked": false
        }
       ],
       "scored": true,
       "setup": "",
       "teardown": "",
       "type": "doctest"
      }
     ]
    },
    "q3": {
     "name": "q3",
     "points": null,
     "suites": [
      {
       "cases": [
        {
         "code": ">>> def test_nqueens_4_solution_count():\n...     ts = interleave_n_queens(4)\n...     solutions = extract_valid_n_queen_states(ts)\n...     assert len(solutions) == 2, 'N=4 should yield exactly 2 valid N-Queens solutions'\n>>> def test_all_solutions_are_safe():\n...     ts = interleave_n_queens(4)\n...     solutions = extract_valid_n_queen_states(ts)\n...     for sol in solutions:\n...         cols = [int(s[2]) for s in sol]\n...         assert is_safe(cols), f'Invalid solution detected: {sol}'\n>>> def test_solutions_have_one_queen_per_row():\n...     ts = interleave_n_queens(4)\n...     solutions = extract_valid_n_queen_states(ts)\n...     for sol in solutions:\n...         assert len(sol) == 4, f'Incomplete solution: {sol}'\n...         assert all((s.startswith('q') for s in sol)), f'Malformed state: {sol}'\n>>> test_nqueens_4_solution_count()\n>>> test_all_solutions_are_safe()\n>>> test_solutions_have_one_queen_per_row()\n",
         "hidden": false,
         "locked": false
        }
       ],
       "scored": true,
       "setup": "",
       "teardown": "",
       "type": "doctest"
      }
     ]
    }
   }
  }
 },
 "nbformat": 4,
 "nbformat_minor": 0
}
